{
  "nbformat": 4,
  "nbformat_minor": 0,
  "metadata": {
    "colab": {
      "provenance": []
    },
    "kernelspec": {
      "name": "python3",
      "display_name": "Python 3"
    },
    "language_info": {
      "name": "python"
    }
  },
  "cells": [
    {
      "cell_type": "code",
      "execution_count": null,
      "metadata": {
        "colab": {
          "base_uri": "https://localhost:8080/"
        },
        "id": "5kX2Sgco4P5R",
        "outputId": "2e4c1379-47f2-402a-b915-4c7648331d9d"
      },
      "outputs": [
        {
          "output_type": "stream",
          "name": "stdout",
          "text": [
            "Hello, future Tanu!\n"
          ]
        }
      ],
      "source": [
        "print(\"Hello, future Tanu!\")"
      ]
    },
    {
      "cell_type": "code",
      "source": [
        "name = \"Tanu\"\n",
        "age = 17\n",
        "print(\"My name is\", name)\n",
        "print(\"I am\", age, \"years old\")"
      ],
      "metadata": {
        "colab": {
          "base_uri": "https://localhost:8080/"
        },
        "id": "Wfi1YEZm5H34",
        "outputId": "0a969c7e-337f-4f18-f083-e104d2e66d1e"
      },
      "execution_count": 1,
      "outputs": [
        {
          "output_type": "stream",
          "name": "stdout",
          "text": [
            "My name is Tanu\n",
            "I am 17 years old\n"
          ]
        }
      ]
    },
    {
      "cell_type": "code",
      "source": [
        "your_name = input(\"What´s your name?\")\n",
        "your_age = input(\"What´s your age?\")\n",
        "\n",
        "print (\"Hello\", your_name + \"!\")\n",
        "print(\"you are\", your_age, \"years old.\")\n"
      ],
      "metadata": {
        "colab": {
          "base_uri": "https://localhost:8080/"
        },
        "id": "tzndAe5w5zmY",
        "outputId": "e33eee81-5a8e-4155-cf29-4ad4dc3c524d"
      },
      "execution_count": 2,
      "outputs": [
        {
          "output_type": "stream",
          "name": "stdout",
          "text": [
            "What´s your name?tanu\n",
            "What´s your age?18\n",
            "Hello tanu!\n",
            "you are 18 years old.\n"
          ]
        }
      ]
    },
    {
      "cell_type": "code",
      "source": [
        "name = input(\"Enter your name:\")\n",
        "birth_year = int(input(\"Enter your birth year:\"))\n",
        "\n",
        "age = 2025 - birth_year\n",
        "\n",
        "print(\"hey\", name + \"!\")\n",
        "print(\"You are\", age, \"years old in 2025.\")\n",
        "\n",
        "# Age-based message\n",
        "if age < 18:\n",
        "  print(\"you´re still growing - keep learning!\")\n",
        "elif age <= 25:\n",
        "  print(\"you´re entering a powerful chapter of your life.\")\n",
        "else:\n",
        "  print(\"Experience is your superpower!\")\n"
      ],
      "metadata": {
        "id": "U0wHfs8UBYJl",
        "outputId": "20e25649-585c-4fad-acf7-a44f73b66732",
        "colab": {
          "base_uri": "https://localhost:8080/"
        }
      },
      "execution_count": null,
      "outputs": [
        {
          "output_type": "stream",
          "name": "stdout",
          "text": [
            "Enter your name:tanu\n",
            "Enter your birth year:2007\n",
            "hey tanu!\n",
            "You are 18 years old in 2025.\n",
            "you´re entering a powerful chapter of your life.\n"
          ]
        }
      ]
    }
  ]
}